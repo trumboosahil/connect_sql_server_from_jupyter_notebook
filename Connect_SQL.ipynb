{
 "cells": [
  {
   "cell_type": "code",
   "execution_count": null,
   "id": "c88300a1",
   "metadata": {},
   "outputs": [],
   "source": [
    "!pip install pypyodbc"
   ]
  },
  {
   "cell_type": "code",
   "execution_count": 1,
   "id": "2ae66f64",
   "metadata": {},
   "outputs": [],
   "source": [
    "import pyodbc\n",
    "import pandas as pd \n",
    "#DB connection details\n",
    "cnxn_str = (\n",
    "            \"Driver={SQL Server};\"\n",
    "            \"Server=tcp:servername,1433;\"\n",
    "            \"Database=dbname;\"\n",
    "            \"UID=<>;\" #User ID\n",
    "            \"PWD=<>;\" #Password\n",
    "            \"Encrypt=True;\"\n",
    "            \"TrustServerCertificate=False;\"\n",
    "            \"Connection Timeout=60\")\n",
    "\n",
    "cnxn = pyodbc.connect(cnxn_str)"
   ]
  },
  {
   "cell_type": "code",
   "execution_count": 10,
   "id": "ab80ee59",
   "metadata": {},
   "outputs": [],
   "source": [
    "df1 = pd.read_sql(\"Select *  from Table\", cnxn)"
   ]
  },
  {
   "cell_type": "code",
   "execution_count": 12,
   "id": "fd1e1000",
   "metadata": {},
   "outputs": [
    {
     "data": {
      "text/html": [
       "<div>\n",
       "<style scoped>\n",
       "    .dataframe tbody tr th:only-of-type {\n",
       "        vertical-align: middle;\n",
       "    }\n",
       "\n",
       "    .dataframe tbody tr th {\n",
       "        vertical-align: top;\n",
       "    }\n",
       "\n",
       "    .dataframe thead th {\n",
       "        text-align: right;\n",
       "    }\n",
       "</style>\n",
       "<table border=\"1\" class=\"dataframe\">\n",
       "  <thead>\n",
       "    <tr style=\"text-align: right;\">\n",
       "      <th></th>\n",
       "      <th>id</th>\n",
       "      <th>Distance</th>\n",
       "      <th>ModeId</th>\n",
       "    </tr>\n",
       "  </thead>\n",
       "  <tbody>\n",
       "    <tr>\n",
       "      <th>0</th>\n",
       "      <td>6469</td>\n",
       "      <td>46534.0</td>\n",
       "      <td>152998</td>\n",
       "    </tr>\n",
       "    <tr>\n",
       "      <th>1</th>\n",
       "      <td>6470</td>\n",
       "      <td>42095.0</td>\n",
       "      <td>152999</td>\n",
       "    </tr>\n",
       "    <tr>\n",
       "      <th>2</th>\n",
       "      <td>6471</td>\n",
       "      <td>45290.0</td>\n",
       "      <td>153000</td>\n",
       "    </tr>\n",
       "    <tr>\n",
       "      <th>3</th>\n",
       "      <td>6472</td>\n",
       "      <td>28559.0</td>\n",
       "      <td>153001</td>\n",
       "    </tr>\n",
       "    <tr>\n",
       "      <th>4</th>\n",
       "      <td>6473</td>\n",
       "      <td>22933.0</td>\n",
       "      <td>153002</td>\n",
       "    </tr>\n",
       "  </tbody>\n",
       "</table>\n",
       "</div>"
      ],
      "text/plain": [
       "     id  Distance  ModeId\n",
       "0  6469   46534.0  152998\n",
       "1  6470   42095.0  152999\n",
       "2  6471   45290.0  153000\n",
       "3  6472   28559.0  153001\n",
       "4  6473   22933.0  153002"
      ]
     },
     "execution_count": 12,
     "metadata": {},
     "output_type": "execute_result"
    }
   ],
   "source": [
    "df1.head()"
   ]
  },
  {
   "cell_type": "code",
   "execution_count": null,
   "id": "5ca5c9ad",
   "metadata": {},
   "outputs": [],
   "source": []
  }
 ],
 "metadata": {
  "kernelspec": {
   "display_name": "Python 3 (ipykernel)",
   "language": "python",
   "name": "python3"
  },
  "language_info": {
   "codemirror_mode": {
    "name": "ipython",
    "version": 3
   },
   "file_extension": ".py",
   "mimetype": "text/x-python",
   "name": "python",
   "nbconvert_exporter": "python",
   "pygments_lexer": "ipython3",
   "version": "3.9.7"
  }
 },
 "nbformat": 4,
 "nbformat_minor": 5
}
